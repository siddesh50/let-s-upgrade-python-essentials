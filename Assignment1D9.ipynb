{
 "cells": [
  {
   "cell_type": "markdown",
   "metadata": {},
   "source": [
    "# Assignment1 Day9"
   ]
  },
  {
   "cell_type": "code",
   "execution_count": 1,
   "metadata": {},
   "outputs": [],
   "source": [
    "#pylint"
   ]
  },
  {
   "cell_type": "code",
   "execution_count": 2,
   "metadata": {},
   "outputs": [
    {
     "name": "stdout",
     "output_type": "stream",
     "text": [
      "Requirement already satisfied: pylint in d:\\anaconda\\lib\\site-packages (2.5.3)\n",
      "Requirement already satisfied: astroid<=2.5,>=2.4.0 in d:\\anaconda\\lib\\site-packages (from pylint) (2.4.2)\n",
      "Requirement already satisfied: toml>=0.7.1 in d:\\anaconda\\lib\\site-packages (from pylint) (0.10.1)\n",
      "Requirement already satisfied: mccabe<0.7,>=0.6 in d:\\anaconda\\lib\\site-packages (from pylint) (0.6.1)\n",
      "Requirement already satisfied: isort<5,>=4.2.5 in d:\\anaconda\\lib\\site-packages (from pylint) (4.3.21)\n",
      "Requirement already satisfied: colorama; sys_platform == \"win32\" in d:\\anaconda\\lib\\site-packages (from pylint) (0.4.3)\n",
      "Requirement already satisfied: wrapt~=1.11 in d:\\anaconda\\lib\\site-packages (from astroid<=2.5,>=2.4.0->pylint) (1.11.2)\n",
      "Requirement already satisfied: lazy-object-proxy==1.4.* in d:\\anaconda\\lib\\site-packages (from astroid<=2.5,>=2.4.0->pylint) (1.4.3)\n",
      "Requirement already satisfied: six~=1.12 in d:\\anaconda\\lib\\site-packages (from astroid<=2.5,>=2.4.0->pylint) (1.15.0)\n"
     ]
    }
   ],
   "source": [
    "! pip install pylint"
   ]
  },
  {
   "cell_type": "code",
   "execution_count": 6,
   "metadata": {},
   "outputs": [
    {
     "name": "stdout",
     "output_type": "stream",
     "text": [
      "Overwriting prime_number.py\n"
     ]
    }
   ],
   "source": [
    "%%writefile prime_number.py\n",
    "'''\n",
    "Hey this is python file for prime number\n",
    "'''\n",
    "def prime_no(num):\n",
    "    '''\n",
    "    Hey this is a prime number function\n",
    "    '''\n",
    "    temp = 0\n",
    "    for i in range(2, num):\n",
    "        if num%i == 0:\n",
    "            temp = 1\n",
    "    if temp == 0:\n",
    "        return True"
   ]
  },
  {
   "cell_type": "code",
   "execution_count": 7,
   "metadata": {},
   "outputs": [
    {
     "name": "stdout",
     "output_type": "stream",
     "text": [
      "************* Module prime_number\n",
      "prime_number.py:4:0: R1710: Either all return statements in a function should return an expression, or none of them should. (inconsistent-return-statements)\n",
      "\n",
      "------------------------------------------------------------------\n",
      "\n",
      "Your code has been rated at 8.57/10 (previous run: 8.57/10, +0.00)\n",
      "\n",
      "\n",
      "\n"
     ]
    }
   ],
   "source": [
    "! pylint prime_number"
   ]
  },
  {
   "cell_type": "code",
   "execution_count": 8,
   "metadata": {},
   "outputs": [
    {
     "data": {
      "text/plain": [
       "True"
      ]
     },
     "execution_count": 8,
     "metadata": {},
     "output_type": "execute_result"
    }
   ],
   "source": [
    "import prime_number\n",
    "prime_number.prime_no(7)"
   ]
  },
  {
   "cell_type": "code",
   "execution_count": 13,
   "metadata": {},
   "outputs": [
    {
     "name": "stdout",
     "output_type": "stream",
     "text": [
      "Overwriting test_prime_number\n"
     ]
    }
   ],
   "source": [
    "%%writefile test_prime_number\n",
    "import unittest\n",
    "import prime_number\n",
    "\n",
    "class test_prime_no(unittest.TestCase):\n",
    "    def test_no(self):\n",
    "        a = 7\n",
    "        result = prime_number.prime_no(a)\n",
    "        self.assertEqual(result, True)\n",
    "        \n",
    "if __name__ == \"__main__\":\n",
    "    unittest.main()"
   ]
  },
  {
   "cell_type": "code",
   "execution_count": 14,
   "metadata": {},
   "outputs": [
    {
     "name": "stderr",
     "output_type": "stream",
     "text": [
      ".\n",
      "----------------------------------------------------------------------\n",
      "Ran 1 test in 0.000s\n",
      "\n",
      "OK\n"
     ]
    }
   ],
   "source": [
    "! python test_prime_number"
   ]
  },
  {
   "cell_type": "code",
   "execution_count": null,
   "metadata": {},
   "outputs": [],
   "source": []
  }
 ],
 "metadata": {
  "kernelspec": {
   "display_name": "Python 3",
   "language": "python",
   "name": "python3"
  },
  "language_info": {
   "codemirror_mode": {
    "name": "ipython",
    "version": 3
   },
   "file_extension": ".py",
   "mimetype": "text/x-python",
   "name": "python",
   "nbconvert_exporter": "python",
   "pygments_lexer": "ipython3",
   "version": "3.8.3"
  }
 },
 "nbformat": 4,
 "nbformat_minor": 4
}
